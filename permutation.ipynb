{
 "cells": [
  {
   "cell_type": "code",
   "execution_count": 4,
   "metadata": {
    "colab": {
     "base_uri": "https://localhost:8080/"
    },
    "executionInfo": {
     "elapsed": 334,
     "status": "ok",
     "timestamp": 1653654253503,
     "user": {
      "displayName": "Lucas",
      "userId": "17324956450206444860"
     },
     "user_tz": 180
    },
    "id": "UvmWEPztcwyg",
    "outputId": "6da6c6df-b734-460c-e5a1-2700c0baa2d4"
   },
   "outputs": [
    {
     "name": "stdout",
     "output_type": "stream",
     "text": [
      "('L', 'U', 'C', 'A', 'S')\n",
      "('L', 'U', 'C', 'S', 'A')\n",
      "('L', 'U', 'A', 'C', 'S')\n",
      "('L', 'U', 'A', 'S', 'C')\n",
      "('L', 'U', 'S', 'C', 'A')\n",
      "('L', 'U', 'S', 'A', 'C')\n",
      "('L', 'C', 'U', 'A', 'S')\n",
      "('L', 'C', 'U', 'S', 'A')\n",
      "('L', 'C', 'A', 'U', 'S')\n",
      "('L', 'C', 'A', 'S', 'U')\n",
      "('L', 'C', 'S', 'U', 'A')\n",
      "('L', 'C', 'S', 'A', 'U')\n",
      "('L', 'A', 'U', 'C', 'S')\n",
      "('L', 'A', 'U', 'S', 'C')\n",
      "('L', 'A', 'C', 'U', 'S')\n",
      "('L', 'A', 'C', 'S', 'U')\n",
      "('L', 'A', 'S', 'U', 'C')\n",
      "('L', 'A', 'S', 'C', 'U')\n",
      "('L', 'S', 'U', 'C', 'A')\n",
      "('L', 'S', 'U', 'A', 'C')\n",
      "('L', 'S', 'C', 'U', 'A')\n",
      "('L', 'S', 'C', 'A', 'U')\n",
      "('L', 'S', 'A', 'U', 'C')\n",
      "('L', 'S', 'A', 'C', 'U')\n",
      "('U', 'L', 'C', 'A', 'S')\n",
      "('U', 'L', 'C', 'S', 'A')\n",
      "('U', 'L', 'A', 'C', 'S')\n",
      "('U', 'L', 'A', 'S', 'C')\n",
      "('U', 'L', 'S', 'C', 'A')\n",
      "('U', 'L', 'S', 'A', 'C')\n",
      "('U', 'C', 'L', 'A', 'S')\n",
      "('U', 'C', 'L', 'S', 'A')\n",
      "('U', 'C', 'A', 'L', 'S')\n",
      "('U', 'C', 'A', 'S', 'L')\n",
      "('U', 'C', 'S', 'L', 'A')\n",
      "('U', 'C', 'S', 'A', 'L')\n",
      "('U', 'A', 'L', 'C', 'S')\n",
      "('U', 'A', 'L', 'S', 'C')\n",
      "('U', 'A', 'C', 'L', 'S')\n",
      "('U', 'A', 'C', 'S', 'L')\n",
      "('U', 'A', 'S', 'L', 'C')\n",
      "('U', 'A', 'S', 'C', 'L')\n",
      "('U', 'S', 'L', 'C', 'A')\n",
      "('U', 'S', 'L', 'A', 'C')\n",
      "('U', 'S', 'C', 'L', 'A')\n",
      "('U', 'S', 'C', 'A', 'L')\n",
      "('U', 'S', 'A', 'L', 'C')\n",
      "('U', 'S', 'A', 'C', 'L')\n",
      "('C', 'L', 'U', 'A', 'S')\n",
      "('C', 'L', 'U', 'S', 'A')\n",
      "('C', 'L', 'A', 'U', 'S')\n",
      "('C', 'L', 'A', 'S', 'U')\n",
      "('C', 'L', 'S', 'U', 'A')\n",
      "('C', 'L', 'S', 'A', 'U')\n",
      "('C', 'U', 'L', 'A', 'S')\n",
      "('C', 'U', 'L', 'S', 'A')\n",
      "('C', 'U', 'A', 'L', 'S')\n",
      "('C', 'U', 'A', 'S', 'L')\n",
      "('C', 'U', 'S', 'L', 'A')\n",
      "('C', 'U', 'S', 'A', 'L')\n",
      "('C', 'A', 'L', 'U', 'S')\n",
      "('C', 'A', 'L', 'S', 'U')\n",
      "('C', 'A', 'U', 'L', 'S')\n",
      "('C', 'A', 'U', 'S', 'L')\n",
      "('C', 'A', 'S', 'L', 'U')\n",
      "('C', 'A', 'S', 'U', 'L')\n",
      "('C', 'S', 'L', 'U', 'A')\n",
      "('C', 'S', 'L', 'A', 'U')\n",
      "('C', 'S', 'U', 'L', 'A')\n",
      "('C', 'S', 'U', 'A', 'L')\n",
      "('C', 'S', 'A', 'L', 'U')\n",
      "('C', 'S', 'A', 'U', 'L')\n",
      "('A', 'L', 'U', 'C', 'S')\n",
      "('A', 'L', 'U', 'S', 'C')\n",
      "('A', 'L', 'C', 'U', 'S')\n",
      "('A', 'L', 'C', 'S', 'U')\n",
      "('A', 'L', 'S', 'U', 'C')\n",
      "('A', 'L', 'S', 'C', 'U')\n",
      "('A', 'U', 'L', 'C', 'S')\n",
      "('A', 'U', 'L', 'S', 'C')\n",
      "('A', 'U', 'C', 'L', 'S')\n",
      "('A', 'U', 'C', 'S', 'L')\n",
      "('A', 'U', 'S', 'L', 'C')\n",
      "('A', 'U', 'S', 'C', 'L')\n",
      "('A', 'C', 'L', 'U', 'S')\n",
      "('A', 'C', 'L', 'S', 'U')\n",
      "('A', 'C', 'U', 'L', 'S')\n",
      "('A', 'C', 'U', 'S', 'L')\n",
      "('A', 'C', 'S', 'L', 'U')\n",
      "('A', 'C', 'S', 'U', 'L')\n",
      "('A', 'S', 'L', 'U', 'C')\n",
      "('A', 'S', 'L', 'C', 'U')\n",
      "('A', 'S', 'U', 'L', 'C')\n",
      "('A', 'S', 'U', 'C', 'L')\n",
      "('A', 'S', 'C', 'L', 'U')\n",
      "('A', 'S', 'C', 'U', 'L')\n",
      "('S', 'L', 'U', 'C', 'A')\n",
      "('S', 'L', 'U', 'A', 'C')\n",
      "('S', 'L', 'C', 'U', 'A')\n",
      "('S', 'L', 'C', 'A', 'U')\n",
      "('S', 'L', 'A', 'U', 'C')\n",
      "('S', 'L', 'A', 'C', 'U')\n",
      "('S', 'U', 'L', 'C', 'A')\n",
      "('S', 'U', 'L', 'A', 'C')\n",
      "('S', 'U', 'C', 'L', 'A')\n",
      "('S', 'U', 'C', 'A', 'L')\n",
      "('S', 'U', 'A', 'L', 'C')\n",
      "('S', 'U', 'A', 'C', 'L')\n",
      "('S', 'C', 'L', 'U', 'A')\n",
      "('S', 'C', 'L', 'A', 'U')\n",
      "('S', 'C', 'U', 'L', 'A')\n",
      "('S', 'C', 'U', 'A', 'L')\n",
      "('S', 'C', 'A', 'L', 'U')\n",
      "('S', 'C', 'A', 'U', 'L')\n",
      "('S', 'A', 'L', 'U', 'C')\n",
      "('S', 'A', 'L', 'C', 'U')\n",
      "('S', 'A', 'U', 'L', 'C')\n",
      "('S', 'A', 'U', 'C', 'L')\n",
      "('S', 'A', 'C', 'L', 'U')\n",
      "('S', 'A', 'C', 'U', 'L')\n",
      "120\n"
     ]
    }
   ],
   "source": [
    "from itertools import permutations\n",
    "\n",
    "caracteres = [\"L\", \"U\", \"C\", \"A\", \"S\"] #add in this line the elements to be combined\n",
    "\n",
    "possibilities = 0\n",
    "\n",
    "for subset in permutations(caracteres, len(caracteres)):\n",
    "    print(subset)\n",
    "    possibilities+=1\n",
    "        "
   ]
  },
  {
   "cell_type": "code",
   "execution_count": 5,
   "metadata": {},
   "outputs": [
    {
     "name": "stdout",
     "output_type": "stream",
     "text": [
      "Total permutations: 120\n"
     ]
    }
   ],
   "source": [
    "print(f'Total permutations: {possibilities}')"
   ]
  }
 ],
 "metadata": {
  "colab": {
   "authorship_tag": "ABX9TyOScudszBfHyCUmK4E4u/Vj",
   "name": "análise_combinatória.ipynb",
   "provenance": []
  },
  "kernelspec": {
   "display_name": "Python 3 (ipykernel)",
   "language": "python",
   "name": "python3"
  },
  "language_info": {
   "codemirror_mode": {
    "name": "ipython",
    "version": 3
   },
   "file_extension": ".py",
   "mimetype": "text/x-python",
   "name": "python",
   "nbconvert_exporter": "python",
   "pygments_lexer": "ipython3",
   "version": "3.9.13"
  }
 },
 "nbformat": 4,
 "nbformat_minor": 1
}
